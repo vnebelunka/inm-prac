{
 "cells": [
  {
   "cell_type": "code",
   "execution_count": 1,
   "metadata": {},
   "outputs": [],
   "source": [
    "import numpy as np\n",
    "import time\n",
    "import scipy"
   ]
  },
  {
   "cell_type": "code",
   "execution_count": 23,
   "metadata": {},
   "outputs": [],
   "source": [
    "def maxvol1(A_func, I, J, U = None, V = None, maxit=7):\n",
    "    row = I[np.random.randint(0, len(I))]\n",
    "    if U is None:\n",
    "        for it in range(1, maxit+1, 2):\n",
    "            col = J[np.argmax(np.abs(A_func(row, I)))]\n",
    "            row = I[np.argmax(np.abs(A_func(J, col)))]\n",
    "    else:\n",
    "        for it in range(1, maxit+1, 2):\n",
    "            col = J[np.argmax(np.abs(A_func(row, J) - U[row, :] @ V[:, J]))]\n",
    "            row = I[np.argmax(np.abs(A_func(I, col) - U[I, :] @ V[:, col]))]\n",
    "    return row, col"
   ]
  },
  {
   "cell_type": "code",
   "execution_count": 24,
   "metadata": {},
   "outputs": [],
   "source": [
    "def mCross(A_func, shape, eps = 1e-5):\n",
    "    n, m = shape\n",
    "    I = np.arange(n)\n",
    "    J = np.arange(m)\n",
    "    i, j = maxvol1(A_func, I, J)\n",
    "    U = (A_func(np.arange(n), j) / np.abs(A_func(i, j))**0.5).reshape(-1, 1)\n",
    "    V = (A_func(i, np.arange(m)) * np.abs(A_func(i, j))**0.5 / A_func(i, j)).reshape(1, -1)\n",
    "    I = np.setdiff1d(I, [i])\n",
    "    J = np.setdiff1d(J, [j])\n",
    "    r = 1\n",
    "    UVnorm2 = np.linalg.norm(U @ V)**2\n",
    "    while True:\n",
    "        i, j = maxvol1(A_func, I, J, U, V)\n",
    "        UV_ij = U[i, :] @ V[:, j]\n",
    "        if np.abs(A_func(i, j) - UV_ij) * np.sqrt((m-r) * (n-r)) < eps * np.sqrt(UVnorm2):\n",
    "            break\n",
    "        u = (A_func(np.arange(n), j) - U @ V[:, j]) / np.sqrt(np.abs(A_func(i, j) - UV_ij))\n",
    "        v = (A_func(i,  np.arange(m)) - U[i, :] @ V) * np.sqrt(np.abs(A_func(i, j) - UV_ij)) / (A_func(i, j) - UV_ij)\n",
    "        UVnorm2 = UVnorm2 + np.linalg.norm(u)**2 * np.linalg.norm(v)**2 + np.dot(U.T @ u, V @ v.T) + np.dot(V @ v.T, U.T @ u)\n",
    "        U = np.concatenate((U, u.reshape(-1, 1)), axis=1)\n",
    "        V = np.concatenate((V, v.reshape(1, -1)), axis=0)\n",
    "        I = np.setdiff1d(I, [i])\n",
    "        J = np.setdiff1d(J, [j])\n",
    "        r += 1\n",
    "    return (U, V, r)"
   ]
  },
  {
   "cell_type": "code",
   "execution_count": 18,
   "metadata": {},
   "outputs": [],
   "source": [
    "def Hilbert(i, j):\n",
    "    return 1 / (i + j + 1)\n",
    "\n",
    "M = 4096\n",
    "N = 4096\n",
    "\n",
    "A = np.fromfunction(Hilbert, [M, N])"
   ]
  },
  {
   "cell_type": "code",
   "execution_count": 11,
   "metadata": {},
   "outputs": [
    {
     "name": "stdout",
     "output_type": "stream",
     "text": [
      "Classical time:  15.15151071548462  sec\n"
     ]
    }
   ],
   "source": [
    "start = time.time()\n",
    "u, s, v = np.linalg.svd(A, full_matrices=False)\n",
    "end = time.time()\n",
    "print(\"Classical time: \", end - start, \" sec\")"
   ]
  },
  {
   "cell_type": "code",
   "execution_count": 22,
   "metadata": {},
   "outputs": [
    {
     "data": {
      "text/plain": [
       "(16, 4.829631361502607e-07)"
      ]
     },
     "execution_count": 22,
     "metadata": {},
     "output_type": "execute_result"
    }
   ],
   "source": [
    "eps = 1e-6\n",
    "\n",
    "norm = np.sum(s)\n",
    "cur_norm = norm.copy()\n",
    "r = 0\n",
    "while cur_norm >= eps:\n",
    "    cur_norm -= s[r]\n",
    "    r += 1\n",
    "r, np.sum(s) - np.sum(s[: r])"
   ]
  },
  {
   "cell_type": "code",
   "execution_count": 25,
   "metadata": {},
   "outputs": [
    {
     "name": "stdout",
     "output_type": "stream",
     "text": [
      "Cross time:  0.10158896446228027  sec\n",
      "Rank = 17, Relative approximation error = 1.6080917904539608e-07\n"
     ]
    }
   ],
   "source": [
    "start = time.time()\n",
    "U, V, r = mCross(Hilbert,(N, M), eps)\n",
    "np.linalg.norm(A - U @ V), r\n",
    "end = time.time()\n",
    "print(\"Cross time: \", end - start, \" sec\")\n",
    "print(\"Rank = {}, Relative approximation error = {}\".format(r, np.linalg.norm(A - U @ V) / np.linalg.norm(A)))"
   ]
  }
 ],
 "metadata": {
  "kernelspec": {
   "display_name": "Python 3",
   "language": "python",
   "name": "python3"
  },
  "language_info": {
   "codemirror_mode": {
    "name": "ipython",
    "version": 3
   },
   "file_extension": ".py",
   "mimetype": "text/x-python",
   "name": "python",
   "nbconvert_exporter": "python",
   "pygments_lexer": "ipython3",
   "version": "3.11.8"
  }
 },
 "nbformat": 4,
 "nbformat_minor": 2
}
