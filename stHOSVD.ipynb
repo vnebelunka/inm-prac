{
 "cells": [
  {
   "cell_type": "code",
   "execution_count": 1,
   "metadata": {},
   "outputs": [],
   "source": [
    "import numpy as np"
   ]
  },
  {
   "cell_type": "code",
   "execution_count": 41,
   "metadata": {},
   "outputs": [],
   "source": [
    "n = 100\n",
    "\n",
    "def foo(i, j, k):\n",
    "    return np.sin((i + j + k)) + np.cos(3 * (i + j + k))\n",
    "\n",
    "A = np.fromfunction(foo, [n, n, n])\n",
    "d = len(A.shape)"
   ]
  },
  {
   "cell_type": "code",
   "execution_count": 42,
   "metadata": {},
   "outputs": [],
   "source": [
    "def crop_vector(a, eps):\n",
    "    r = 0\n",
    "    cur_sum = 0\n",
    "    sum = np.sum(a)\n",
    "    while sum - cur_sum >= eps:\n",
    "        cur_sum += a[r]\n",
    "        r += 1\n",
    "    return r + 1\n",
    "\n",
    "def tensor_unfold(A, k):\n",
    "    return np.reshape(np.moveaxis(A, k, 0), (A.shape[k], -1))\n",
    "\n",
    "def mul_by_dim(T, A, k):\n",
    "    d = len(T.shape)\n",
    "    return np.einsum(T, [i for i in range(d)], A, [k, d], [i if i != k else d for i in range(d)])"
   ]
  },
  {
   "cell_type": "code",
   "execution_count": 43,
   "metadata": {},
   "outputs": [],
   "source": [
    "def stHOSVD(A, eps=1e-5):\n",
    "    d = len(A.shape)\n",
    "    U = []\n",
    "    G = A\n",
    "    shape = [k for k in A.shape]\n",
    "    for k in range(d):\n",
    "        Ak = tensor_unfold(G, k)\n",
    "        u, s, v = np.linalg.svd(Ak, full_matrices=False)\n",
    "        r = crop_vector(s, eps / d**0.5)\n",
    "        shape[k] = r\n",
    "        U.append(u[:, :r])\n",
    "        G = np.diag(s[:r]) @ v[:r, :]\n",
    "        G = G.reshape(r, *[shape[i] for i in range(len(shape)) if i != k])\n",
    "    return np.transpose(G), U  # ranks are inverse in G  \n"
   ]
  },
  {
   "cell_type": "code",
   "execution_count": 44,
   "metadata": {},
   "outputs": [
    {
     "data": {
      "text/plain": [
       "(5, 5, 5)"
      ]
     },
     "execution_count": 44,
     "metadata": {},
     "output_type": "execute_result"
    }
   ],
   "source": [
    "g, U = stHOSVD(A)\n",
    "g.shape"
   ]
  },
  {
   "cell_type": "code",
   "execution_count": 45,
   "metadata": {},
   "outputs": [
    {
     "data": {
      "text/plain": [
       "9.954122877747075e-12"
      ]
     },
     "execution_count": 45,
     "metadata": {},
     "output_type": "execute_result"
    }
   ],
   "source": [
    "T = g\n",
    "for k in range(d):\n",
    "    T = mul_by_dim(T, U[k].T, k)\n",
    "\n",
    "np.linalg.norm(T - A)"
   ]
  }
 ],
 "metadata": {
  "kernelspec": {
   "display_name": "Python 3",
   "language": "python",
   "name": "python3"
  },
  "language_info": {
   "codemirror_mode": {
    "name": "ipython",
    "version": 3
   },
   "file_extension": ".py",
   "mimetype": "text/x-python",
   "name": "python",
   "nbconvert_exporter": "python",
   "pygments_lexer": "ipython3",
   "version": "3.11.8"
  }
 },
 "nbformat": 4,
 "nbformat_minor": 2
}
