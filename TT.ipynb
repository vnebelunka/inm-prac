{
 "cells": [
  {
   "cell_type": "code",
   "execution_count": 3,
   "metadata": {},
   "outputs": [],
   "source": [
    "import numpy as np\n",
    "from numpy.linalg import svd as svd"
   ]
  },
  {
   "cell_type": "code",
   "execution_count": 52,
   "metadata": {},
   "outputs": [],
   "source": [
    "n = 50\n",
    "\n",
    "def foo(i, j, k, l):\n",
    "    return 1 / (1 + i + j + k + l)\n",
    "\n",
    "A = np.fromfunction(foo, [n, n, n, n])\n",
    "d = A.ndim"
   ]
  },
  {
   "cell_type": "code",
   "execution_count": 53,
   "metadata": {},
   "outputs": [],
   "source": [
    "def crop_vector(a: np.array, eps: float) -> int:\n",
    "    \"\"\"crop vector of positive values until all sum minus prefix sum < eps\n",
    "\n",
    "    Args:\n",
    "        a (np.array): vector of positive values\n",
    "        eps (float): tolerance\n",
    "\n",
    "    Returns:\n",
    "        int: len of prefix sum\n",
    "    \"\"\"    \n",
    "    r = 0\n",
    "    cur_sum = 0\n",
    "    sum = np.sum(a)\n",
    "\n",
    "    while r < len(a):\n",
    "        cur_sum += a[r]\n",
    "        if sum - cur_sum < eps:\n",
    "            return r + 1\n",
    "        r += 1\n",
    "    return r"
   ]
  },
  {
   "cell_type": "code",
   "execution_count": 54,
   "metadata": {},
   "outputs": [],
   "source": [
    "def TTSVD(A, eps):\n",
    "    d = A.ndim\n",
    "    TT = A.reshape(A.shape[0], -1)\n",
    "    u, s, v = svd(TT, full_matrices=False)\n",
    "    r1 = crop_vector(s, eps / (d**0.5))\n",
    "    G1 = u[:, :r1]\n",
    "    TT = np.diag(s[:r1]) @ v[:r1, :]\n",
    "    ranks = [r1]\n",
    "    G = [G1]\n",
    "    for k in range(1, d-1):\n",
    "        TT = TT.reshape(ranks[k - 1] * A.shape[k], -1)\n",
    "        u, s, v = svd(TT, full_matrices=False)\n",
    "        ranks.append(crop_vector(s, eps / (d**0.5)))\n",
    "        Gk = u[:, :ranks[k]].reshape(ranks[k-1], A.shape[k], ranks[k])\n",
    "        G.append(Gk)\n",
    "        TT = np.diag(s[:ranks[k]]) @ v[:ranks[k], :]\n",
    "    G.append(TT)\n",
    "    return G"
   ]
  },
  {
   "cell_type": "code",
   "execution_count": 85,
   "metadata": {},
   "outputs": [
    {
     "name": "stdout",
     "output_type": "stream",
     "text": [
      "[(50, 13), (13, 50, 13), (13, 50, 13), (13, 50)]\n"
     ]
    }
   ],
   "source": [
    "G = TTSVD(A, 1e-8)\n",
    "print([g.shape for g in G])"
   ]
  },
  {
   "cell_type": "code",
   "execution_count": 83,
   "metadata": {},
   "outputs": [],
   "source": [
    "def unfold_TT(G):\n",
    "    d = len(G)\n",
    "    g = G[0]\n",
    "    for k in range(1, d-1):\n",
    "        g = np.einsum(g, [i for i in range(g.ndim)], G[k], [g.ndim-1, g.ndim, g.ndim+1], [i for i in range(g.ndim - 1)] + [g.ndim, g.ndim+1]) # ...k,k...->...\n",
    "    g = np.einsum(g, [i for i in range(g.ndim)], G[-1], [g.ndim - 1, g.ndim], [i for i in range(g.ndim -1)] + [g.ndim])\n",
    "    return g"
   ]
  },
  {
   "cell_type": "code",
   "execution_count": 84,
   "metadata": {},
   "outputs": [
    {
     "data": {
      "text/plain": [
       "4.4758827043168295e-09"
      ]
     },
     "execution_count": 84,
     "metadata": {},
     "output_type": "execute_result"
    }
   ],
   "source": [
    "g = unfold_TT(G)\n",
    "np.linalg.norm(g - A)"
   ]
  }
 ],
 "metadata": {
  "kernelspec": {
   "display_name": "Python 3",
   "language": "python",
   "name": "python3"
  },
  "language_info": {
   "codemirror_mode": {
    "name": "ipython",
    "version": 3
   },
   "file_extension": ".py",
   "mimetype": "text/x-python",
   "name": "python",
   "nbconvert_exporter": "python",
   "pygments_lexer": "ipython3",
   "version": "3.11.8"
  }
 },
 "nbformat": 4,
 "nbformat_minor": 2
}
