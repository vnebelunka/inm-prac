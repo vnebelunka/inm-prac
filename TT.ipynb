{
 "cells": [
  {
   "cell_type": "code",
   "execution_count": 6,
   "metadata": {},
   "outputs": [],
   "source": [
    "import numpy as np\n",
    "from numpy.linalg import svd as svd\n",
    "from numpy.linalg import inv as inv"
   ]
  },
  {
   "cell_type": "code",
   "execution_count": 605,
   "metadata": {},
   "outputs": [],
   "source": [
    "n = 50\n",
    "\n",
    "def foo(i, j, k, l):\n",
    "    return np.sin(i + j + k + l)\n",
    "\n",
    "A = np.fromfunction(foo, [n, n, n, n])\n",
    "d = A.ndim"
   ]
  },
  {
   "cell_type": "markdown",
   "metadata": {},
   "source": [
    "# Utils"
   ]
  },
  {
   "cell_type": "code",
   "execution_count": 260,
   "metadata": {},
   "outputs": [],
   "source": [
    "def crop_vector(a: np.array, eps: float) -> int:\n",
    "    \"\"\"crop vector of positive values until all sum minus prefix sum < eps\n",
    "\n",
    "    Args:\n",
    "        a (np.array): vector of positive values\n",
    "        eps (float): tolerance\n",
    "\n",
    "    Returns:\n",
    "        int: len of prefix sum\n",
    "    \"\"\"    \n",
    "    r = 0\n",
    "    cur_sum = 0\n",
    "    sum = np.sum(a)\n",
    "\n",
    "    while r < len(a):\n",
    "        cur_sum += a[r]\n",
    "        if sum - cur_sum < eps:\n",
    "            return r + 1\n",
    "        r += 1\n",
    "    return r\n",
    "\n",
    "def croped_svd(a: np.array, eps: float, full_matrices = False):\n",
    "    \"\"\"return cropped svd with absolute tolerance eps\n",
    "\n",
    "    Args:\n",
    "        a (np.array): matrix\n",
    "        eps (float): absolute\n",
    "        full_matrices (bool, optional): full_matrices for np.svd. Defaults to False.\n",
    "\n",
    "    Returns:\n",
    "        _type_: u, s, v - cropped svd\n",
    "    \"\"\"\n",
    "    u, s, v = svd(a, full_matrices = full_matrices)\n",
    "    r = crop_vector(s, eps)\n",
    "    return u[:, :r], s[:r], v[:r, :]"
   ]
  },
  {
   "cell_type": "markdown",
   "metadata": {},
   "source": [
    "# TT SVD"
   ]
  },
  {
   "cell_type": "code",
   "execution_count": 607,
   "metadata": {},
   "outputs": [],
   "source": [
    "def TTSVD(A, eps): #from left to right\n",
    "    d = A.ndim\n",
    "    TT = A.reshape(A.shape[0], -1)\n",
    "    u, s, v = croped_svd(TT, eps / (d**0.5))\n",
    "    r1 = len(s)\n",
    "    G1 = u\n",
    "    TT = np.diag(s) @ v\n",
    "    ranks = [r1]\n",
    "    G = [G1]\n",
    "    for k in range(1, d-1):\n",
    "        TT = TT.reshape(ranks[k - 1] * A.shape[k], -1)\n",
    "        u, s, v = svd(TT, full_matrices=False)\n",
    "        ranks.append(crop_vector(s, eps / (d**0.5)))\n",
    "        Gk = u[:, :ranks[k]].reshape(ranks[k-1], A.shape[k], ranks[k])\n",
    "        G.append(Gk)\n",
    "        TT = np.diag(s[:ranks[k]]) @ v[:ranks[k], :]\n",
    "    G.append(TT)\n",
    "    return G"
   ]
  },
  {
   "cell_type": "code",
   "execution_count": 608,
   "metadata": {},
   "outputs": [
    {
     "name": "stdout",
     "output_type": "stream",
     "text": [
      "[(50, 2), (2, 50, 2), (2, 50, 2), (2, 50)]\n"
     ]
    }
   ],
   "source": [
    "G = TTSVD(A, 1e-8)\n",
    "print([g.shape for g in G])"
   ]
  },
  {
   "cell_type": "code",
   "execution_count": 610,
   "metadata": {},
   "outputs": [],
   "source": [
    "def unfold_TT(G):\n",
    "    d = len(G)\n",
    "    g = G[0]\n",
    "    for k in range(1, d-1):\n",
    "        g = np.einsum(g, [i for i in range(g.ndim)], G[k], [g.ndim-1, g.ndim, g.ndim+1], [i for i in range(g.ndim - 1)] + [g.ndim, g.ndim+1]) # ...k,k...->...\n",
    "    g = np.einsum(g, [i for i in range(g.ndim)], G[-1], [g.ndim - 1, g.ndim], [i for i in range(g.ndim -1)] + [g.ndim])\n",
    "    return g"
   ]
  },
  {
   "cell_type": "code",
   "execution_count": 611,
   "metadata": {},
   "outputs": [
    {
     "data": {
      "text/plain": [
       "7.724874596545585e-12"
      ]
     },
     "execution_count": 611,
     "metadata": {},
     "output_type": "execute_result"
    }
   ],
   "source": [
    "g = unfold_TT(G)\n",
    "np.linalg.norm(g - A)"
   ]
  },
  {
   "cell_type": "code",
   "execution_count": 612,
   "metadata": {},
   "outputs": [
    {
     "data": {
      "text/plain": [
       "([2.0000000000000004,\n",
       "  1.9999999999999996,\n",
       "  2.0000000000000004,\n",
       "  3124999.998381472],\n",
       " 3124999.998381475)"
      ]
     },
     "execution_count": 612,
     "metadata": {},
     "output_type": "execute_result"
    }
   ],
   "source": [
    "[np.linalg.norm(g)**2  for g in G], np.linalg.norm(g)**2"
   ]
  },
  {
   "cell_type": "markdown",
   "metadata": {},
   "source": [
    "# Recompression"
   ]
  },
  {
   "cell_type": "code",
   "execution_count": 613,
   "metadata": {},
   "outputs": [],
   "source": [
    "def recompess(G, eps): #from right to left\n",
    "    d = len(G)\n",
    "    u, s, v = croped_svd(G[d-1], eps / (d ** 0.5))\n",
    "    Gnew = [v]\n",
    "    W = u @ np.diag(s)\n",
    "    for k in range(d-2, 0, -1):\n",
    "        Gk = np.einsum(\"ijk,kl->ijl\", G[k], W)\n",
    "        u, s, v = croped_svd(Gk.reshape(Gk.shape[0], -1), eps / (d ** 0.5))\n",
    "        W = u @ np.diag(s)\n",
    "        Gnew.append(v.reshape(len(s), G[k].shape[1], Gnew[d-2-k].shape[0]))\n",
    "    Gd = np.einsum(\"ij,jk->ik\", G[0], W)\n",
    "    u, s, v = croped_svd(Gd, eps / (d ** 0.5))\n",
    "    Gnew.append(u @ np.diag(s) @ v)\n",
    "    return Gnew[::-1]"
   ]
  },
  {
   "cell_type": "code",
   "execution_count": 614,
   "metadata": {},
   "outputs": [
    {
     "name": "stdout",
     "output_type": "stream",
     "text": [
      "old shape: [(50, 2), (2, 50, 2), (2, 50, 2), (2, 50)] \n",
      "new shape: [(50, 2), (2, 50, 2), (2, 50, 2), (2, 50)]\n"
     ]
    }
   ],
   "source": [
    "Gnew = recompess(G, 1e-3)\n",
    "print(\"old shape:\", [g.shape for g in G], \"\\n\" \"new shape:\", [g.shape for g in Gnew])"
   ]
  },
  {
   "cell_type": "code",
   "execution_count": 615,
   "metadata": {},
   "outputs": [
    {
     "data": {
      "text/plain": [
       "9.539571153541254e-13"
      ]
     },
     "execution_count": 615,
     "metadata": {},
     "output_type": "execute_result"
    }
   ],
   "source": [
    "g1 = unfold_TT(G)\n",
    "g2 = unfold_TT(Gnew)\n",
    "np.linalg.norm(g1 - g2)"
   ]
  },
  {
   "cell_type": "markdown",
   "metadata": {},
   "source": [
    "# TT cross\n"
   ]
  },
  {
   "cell_type": "code",
   "execution_count": 616,
   "metadata": {},
   "outputs": [],
   "source": [
    "def Sherman_Morrison_inv(A_inv, u, v):\n",
    "    den = 1 + np.dot(v, A_inv @ u)\n",
    "    return A_inv - np.outer(A_inv @ u,  v @ A_inv) / den\n",
    "\n",
    "def MaxVol(A, eps=1e-2, maxit=20):\n",
    "    m, r = A.shape\n",
    "\n",
    "\n",
    "    for _try in range(20):\n",
    "        set_i = np.random.choice(m, r, replace=False)\n",
    "        cur_vol = abs(np.linalg.det(A[set_i, :]))\n",
    "        if(cur_vol > 1e-5):\n",
    "            break\n",
    "    C = A[list(set_i), :]\n",
    "    C_inv = np.linalg.inv(C)    \n",
    "    for it in range(1, maxit):\n",
    "        A_temp = np.abs(A @ C_inv)\n",
    "        i, k = np.unravel_index(A_temp.argmax(), A_temp.shape)\n",
    "        a_i = A[i, :]\n",
    "        a_k = A[k, :]\n",
    "        \n",
    "        if A_temp[i, k] <= 1 + eps:\n",
    "            break\n",
    "        set_i[k] = i\n",
    "        cur_vol *= A_temp[i, k]\n",
    "        \n",
    "        # C^-1 := (C - e_k(a_i - a_k))^-1\n",
    "        C_inv = Sherman_Morrison_inv(C_inv, np.eye(1, r, k=k).ravel(), a_i - a_k)\n",
    "    return np.sort(np.array(set_i))\n",
    "\n",
    "def tensor_unfold(A: np.array, k : int) -> np.array:\n",
    "    \"\"\"unfold tensor by dimension k\n",
    "\n",
    "    Args:\n",
    "        A (np.aray): of size (n1, n2, ..., nd)\n",
    "        k (int): dimension for unfold\n",
    "\n",
    "    Returns:\n",
    "        aray: matrix (nk, -1)\n",
    "    \"\"\"    \n",
    "    return np.reshape(np.moveaxis(A, k, 0), (A.shape[k], -1))\n"
   ]
  },
  {
   "cell_type": "code",
   "execution_count": 619,
   "metadata": {},
   "outputs": [],
   "source": [
    "def TTcross(A, ranks, eps = 1e-3, maxit=2, maxitcross = 100):\n",
    "    d = A.ndim\n",
    "    J = [np.random.choice(A.size // np.prod(A.shape[:k+1]), ranks[k], replace=False) for k in range(d-1)]\n",
    "    I = [None for _ in range(d-1)]\n",
    "    G = [None for _ in range(d)]\n",
    "    for it in range(maxit):\n",
    "        print(it)\n",
    "        # forward iteration\n",
    "        TT = A.reshape(A.shape[0], -1) \n",
    "        I[0] = MaxVol(TT[:, J[0]], eps, maxitcross)\n",
    "        TT = TT[I[0], :] #  r1, n2*n3*...nd\n",
    "        for k in range(1, d-1):\n",
    "            TT = TT.reshape(ranks[k-1] * A.shape[k], -1) # r_{k-1}nk, n_{k+1}... n_d\n",
    "            I[k] = MaxVol(TT[:, J[k]], eps, maxitcross)\n",
    "            TT = TT[I[k], :]\n",
    "        # backward iteration\n",
    "        TT = tensor_unfold(A, d-1).T\n",
    "        J[-1] = MaxVol(TT[I[-1], :].T, eps, maxitcross) # transpose for horizontal matrix\n",
    "        TT = TT[:, J[-1]] # n1... n_d-1, r_d\n",
    "        for k in range(len(J) - 2, -1, -1):\n",
    "            TT = TT.reshape(-1, ranks[k + 1] * A.shape[k])\n",
    "            J[k] = MaxVol(TT[I[k], :].T, eps, maxitcross) # transpose for horizontal matrix\n",
    "            TT = TT[:, J[k]]\n",
    "    \n",
    "    # creating tensor train\n",
    "    TT = A.reshape(A.shape[0], -1) \n",
    "    G[0] = TT[:, J[0]] @ inv(TT[I[0][:, None], J[0]])\n",
    "    TT = TT[I[0], :] #  r1, n2*n3*...nd\n",
    "    for k in range(1, d-1):\n",
    "        TT = TT.reshape(ranks[k-1] * A.shape[k], -1) # r_{k-1}nk, n_{k+1}... n_d\n",
    "        I[k] = MaxVol(TT[:, J[k]], eps, maxitcross)\n",
    "        g = TT[:, J[k]] @ inv(TT[I[k][:, None], J[k]])\n",
    "        G[k] = g.reshape(ranks[k-1], A.shape[k], ranks[k])\n",
    "        TT = TT[I[k], :]\n",
    "    G[-1] = TT\n",
    "    return G"
   ]
  },
  {
   "cell_type": "code",
   "execution_count": 620,
   "metadata": {},
   "outputs": [
    {
     "name": "stdout",
     "output_type": "stream",
     "text": [
      "0\n",
      "1\n",
      "2\n",
      "3\n",
      "4\n"
     ]
    }
   ],
   "source": [
    "ranks = [2 for _ in range(A.ndim)]\n",
    "G = TTcross(A, ranks, maxit=5)"
   ]
  },
  {
   "cell_type": "code",
   "execution_count": 621,
   "metadata": {},
   "outputs": [
    {
     "data": {
      "text/plain": [
       "5.993359932070183e-12"
      ]
     },
     "execution_count": 621,
     "metadata": {},
     "output_type": "execute_result"
    }
   ],
   "source": [
    "g = unfold_TT(G)\n",
    "np.linalg.norm(g - A)"
   ]
  }
 ],
 "metadata": {
  "kernelspec": {
   "display_name": "Python 3",
   "language": "python",
   "name": "python3"
  },
  "language_info": {
   "codemirror_mode": {
    "name": "ipython",
    "version": 3
   },
   "file_extension": ".py",
   "mimetype": "text/x-python",
   "name": "python",
   "nbconvert_exporter": "python",
   "pygments_lexer": "ipython3",
   "version": "3.11.8"
  }
 },
 "nbformat": 4,
 "nbformat_minor": 2
}
