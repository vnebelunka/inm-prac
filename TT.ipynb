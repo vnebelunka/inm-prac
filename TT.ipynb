{
 "cells": [
  {
   "cell_type": "code",
   "execution_count": 4,
   "metadata": {},
   "outputs": [],
   "source": [
    "import numpy as np\n",
    "from numpy.linalg import svd as svd\n",
    "from numpy.linalg import inv as inv"
   ]
  },
  {
   "cell_type": "code",
   "execution_count": 5,
   "metadata": {},
   "outputs": [],
   "source": [
    "n = 50\n",
    "\n",
    "def foo(i, j, k, l):\n",
    "    return 1 / (i + j + k + l + 1)\n",
    "\n",
    "A = np.fromfunction(foo, [n, n, n, n])\n",
    "d = A.ndim"
   ]
  },
  {
   "cell_type": "markdown",
   "metadata": {},
   "source": [
    "# Utils"
   ]
  },
  {
   "cell_type": "code",
   "execution_count": 7,
   "metadata": {},
   "outputs": [],
   "source": [
    "def crop_vector(a: np.array, eps: float) -> int:\n",
    "    \"\"\"crop vector of positive values until all sum minus prefix sum < eps\n",
    "\n",
    "    Args:\n",
    "        a (np.array): vector of positive values\n",
    "        eps (float): tolerance\n",
    "\n",
    "    Returns:\n",
    "        int: len of prefix sum\n",
    "    \"\"\"    \n",
    "    r = 0\n",
    "    cur_sum = 0\n",
    "    sum = np.sum(a)\n",
    "\n",
    "    while r < len(a):\n",
    "        cur_sum += a[r]\n",
    "        if sum - cur_sum < eps:\n",
    "            return r + 1\n",
    "        r += 1\n",
    "    return r\n",
    "\n",
    "def croped_svd(a: np.array, eps: float, full_matrices = False):\n",
    "    \"\"\"return cropped svd with absolute tolerance eps\n",
    "\n",
    "    Args:\n",
    "        a (np.array): matrix\n",
    "        eps (float): absolute\n",
    "        full_matrices (bool, optional): full_matrices for np.svd. Defaults to False.\n",
    "\n",
    "    Returns:\n",
    "        _type_: u, s, v - cropped svd\n",
    "    \"\"\"\n",
    "    u, s, v = svd(a, full_matrices = full_matrices)\n",
    "    r = crop_vector(s, eps)\n",
    "    return u[:, :r], s[:r], v[:r, :]"
   ]
  },
  {
   "cell_type": "markdown",
   "metadata": {},
   "source": [
    "# TT SVD"
   ]
  },
  {
   "cell_type": "code",
   "execution_count": 8,
   "metadata": {},
   "outputs": [],
   "source": [
    "def TTSVD(A, eps): #from left to right\n",
    "    d = A.ndim\n",
    "    TT = A.reshape(A.shape[0], -1)\n",
    "    u, s, v = croped_svd(TT, eps / (d**0.5))\n",
    "    r1 = len(s)\n",
    "    G1 = u\n",
    "    TT = np.diag(s) @ v\n",
    "    ranks = [r1]\n",
    "    G = [G1]\n",
    "    for k in range(1, d-1):\n",
    "        TT = TT.reshape(ranks[k - 1] * A.shape[k], -1)\n",
    "        u, s, v = svd(TT, full_matrices=False)\n",
    "        ranks.append(crop_vector(s, eps / (d**0.5)))\n",
    "        Gk = u[:, :ranks[k]].reshape(ranks[k-1], A.shape[k], ranks[k])\n",
    "        G.append(Gk)\n",
    "        TT = np.diag(s[:ranks[k]]) @ v[:ranks[k], :]\n",
    "    G.append(TT)\n",
    "    return G"
   ]
  },
  {
   "cell_type": "code",
   "execution_count": 9,
   "metadata": {},
   "outputs": [
    {
     "name": "stdout",
     "output_type": "stream",
     "text": [
      "[(50, 13), (13, 50, 13), (13, 50, 13), (13, 50)]\n"
     ]
    }
   ],
   "source": [
    "G = TTSVD(A, 1e-8)\n",
    "print([g.shape for g in G])"
   ]
  },
  {
   "cell_type": "code",
   "execution_count": 10,
   "metadata": {},
   "outputs": [],
   "source": [
    "def unfold_TT(G):\n",
    "    d = len(G)\n",
    "    g = G[0]\n",
    "    for k in range(1, d-1):\n",
    "        g = np.einsum(g, [i for i in range(g.ndim)], G[k], [g.ndim-1, g.ndim, g.ndim+1], [i for i in range(g.ndim - 1)] + [g.ndim, g.ndim+1]) # ...k,k...->...\n",
    "    g = np.einsum(g, [i for i in range(g.ndim)], G[-1], [g.ndim - 1, g.ndim], [i for i in range(g.ndim -1)] + [g.ndim])\n",
    "    return g"
   ]
  },
  {
   "cell_type": "code",
   "execution_count": 11,
   "metadata": {},
   "outputs": [
    {
     "data": {
      "text/plain": [
       "4.4758827043168295e-09"
      ]
     },
     "execution_count": 11,
     "metadata": {},
     "output_type": "execute_result"
    }
   ],
   "source": [
    "g = unfold_TT(G)\n",
    "np.linalg.norm(g - A)"
   ]
  },
  {
   "cell_type": "code",
   "execution_count": 12,
   "metadata": {},
   "outputs": [
    {
     "data": {
      "text/plain": [
       "([12.999999999999996,\n",
       "  12.999999999999986,\n",
       "  12.999999999999986,\n",
       "  952.4124701079983],\n",
       " 952.4124701079974)"
      ]
     },
     "execution_count": 12,
     "metadata": {},
     "output_type": "execute_result"
    }
   ],
   "source": [
    "[np.linalg.norm(g)**2  for g in G], np.linalg.norm(g)**2"
   ]
  },
  {
   "cell_type": "markdown",
   "metadata": {},
   "source": [
    "# Recompression"
   ]
  },
  {
   "cell_type": "code",
   "execution_count": 13,
   "metadata": {},
   "outputs": [],
   "source": [
    "def recompess(G, eps, orthogonalization=False): #from right to left\n",
    "    d = len(G)\n",
    "    if orthogonalization:\n",
    "        q, r = np.linalg.qr(G[0])\n",
    "        G[0] = q\n",
    "        np.einsum(\"ij,jkl->ikl\", r, G[1])\n",
    "        for k in range(1, d-1):\n",
    "            q, r = np.linalg.qr(G[k].reshape(G[k-1].shape[-1] * G[k].shape[1], -1))\n",
    "            G[k] = q.reshape(G[k-1].shape[-1], G[k].shape[1], G[k+1].shape[0])\n",
    "            np.einsum(\"ij,jkl->ikl\", r, G[k+1])\n",
    "\n",
    "    u, s, v = croped_svd(G[d-1], eps / (d ** 0.5))\n",
    "    Gnew = [v]\n",
    "    W = u @ np.diag(s)\n",
    "    for k in range(d-2, 0, -1):\n",
    "        Gk = np.einsum(\"ijk,kl->ijl\", G[k], W)\n",
    "        u, s, v = croped_svd(Gk.reshape(Gk.shape[0], -1), eps / (d ** 0.5))\n",
    "        W = u @ np.diag(s)\n",
    "        Gnew.append(v.reshape(len(s), G[k].shape[1], Gnew[d-2-k].shape[0]))\n",
    "    Gd = np.einsum(\"ij,jk->ik\", G[0], W)\n",
    "    u, s, v = croped_svd(Gd, eps / (d ** 0.5))\n",
    "    Gnew.append(u @ np.diag(s) @ v)\n",
    "    return Gnew[::-1]"
   ]
  },
  {
   "cell_type": "code",
   "execution_count": 16,
   "metadata": {},
   "outputs": [
    {
     "ename": "ValueError",
     "evalue": "operands could not be broadcast together with remapped shapes [original->remapped]: (13,50,13)->(13,50,newaxis,13) (50,13)->(13,50) ",
     "output_type": "error",
     "traceback": [
      "\u001b[0;31m---------------------------------------------------------------------------\u001b[0m",
      "\u001b[0;31mValueError\u001b[0m                                Traceback (most recent call last)",
      "\u001b[1;32m/home/nebil/CLionProjects/inm-prac/TT.ipynb Cell 13\u001b[0m line \u001b[0;36m1\n\u001b[0;32m----> <a href='vscode-notebook-cell:/home/nebil/CLionProjects/inm-prac/TT.ipynb#X15sZmlsZQ%3D%3D?line=0'>1</a>\u001b[0m Gnew \u001b[39m=\u001b[39m recompess(G[::\u001b[39m-\u001b[39;49m\u001b[39m1\u001b[39;49m], \u001b[39m1e-3\u001b[39;49m)\n\u001b[1;32m      <a href='vscode-notebook-cell:/home/nebil/CLionProjects/inm-prac/TT.ipynb#X15sZmlsZQ%3D%3D?line=1'>2</a>\u001b[0m \u001b[39mprint\u001b[39m(\u001b[39m\"\u001b[39m\u001b[39mold shape:\u001b[39m\u001b[39m\"\u001b[39m, [g\u001b[39m.\u001b[39mshape \u001b[39mfor\u001b[39;00m g \u001b[39min\u001b[39;00m G], \u001b[39m\"\u001b[39m\u001b[39m\\n\u001b[39;00m\u001b[39m\"\u001b[39m \u001b[39m\"\u001b[39m\u001b[39mnew shape:\u001b[39m\u001b[39m\"\u001b[39m, [g\u001b[39m.\u001b[39mshape \u001b[39mfor\u001b[39;00m g \u001b[39min\u001b[39;00m Gnew])\n",
      "\u001b[1;32m/home/nebil/CLionProjects/inm-prac/TT.ipynb Cell 13\u001b[0m line \u001b[0;36m1\n\u001b[1;32m     <a href='vscode-notebook-cell:/home/nebil/CLionProjects/inm-prac/TT.ipynb#X15sZmlsZQ%3D%3D?line=13'>14</a>\u001b[0m W \u001b[39m=\u001b[39m u \u001b[39m@\u001b[39m np\u001b[39m.\u001b[39mdiag(s)\n\u001b[1;32m     <a href='vscode-notebook-cell:/home/nebil/CLionProjects/inm-prac/TT.ipynb#X15sZmlsZQ%3D%3D?line=14'>15</a>\u001b[0m \u001b[39mfor\u001b[39;00m k \u001b[39min\u001b[39;00m \u001b[39mrange\u001b[39m(d\u001b[39m-\u001b[39m\u001b[39m2\u001b[39m, \u001b[39m0\u001b[39m, \u001b[39m-\u001b[39m\u001b[39m1\u001b[39m):\n\u001b[0;32m---> <a href='vscode-notebook-cell:/home/nebil/CLionProjects/inm-prac/TT.ipynb#X15sZmlsZQ%3D%3D?line=15'>16</a>\u001b[0m     Gk \u001b[39m=\u001b[39m np\u001b[39m.\u001b[39;49meinsum(\u001b[39m\"\u001b[39;49m\u001b[39mijk,kl->ijl\u001b[39;49m\u001b[39m\"\u001b[39;49m, G[k], W)\n\u001b[1;32m     <a href='vscode-notebook-cell:/home/nebil/CLionProjects/inm-prac/TT.ipynb#X15sZmlsZQ%3D%3D?line=16'>17</a>\u001b[0m     u, s, v \u001b[39m=\u001b[39m croped_svd(Gk\u001b[39m.\u001b[39mreshape(Gk\u001b[39m.\u001b[39mshape[\u001b[39m0\u001b[39m], \u001b[39m-\u001b[39m\u001b[39m1\u001b[39m), eps \u001b[39m/\u001b[39m (d \u001b[39m*\u001b[39m\u001b[39m*\u001b[39m \u001b[39m0.5\u001b[39m))\n\u001b[1;32m     <a href='vscode-notebook-cell:/home/nebil/CLionProjects/inm-prac/TT.ipynb#X15sZmlsZQ%3D%3D?line=17'>18</a>\u001b[0m     W \u001b[39m=\u001b[39m u \u001b[39m@\u001b[39m np\u001b[39m.\u001b[39mdiag(s)\n",
      "File \u001b[0;32m<__array_function__ internals>:200\u001b[0m, in \u001b[0;36meinsum\u001b[0;34m(*args, **kwargs)\u001b[0m\n",
      "File \u001b[0;32m~/.local/lib/python3.11/site-packages/numpy/core/einsumfunc.py:1371\u001b[0m, in \u001b[0;36meinsum\u001b[0;34m(out, optimize, *operands, **kwargs)\u001b[0m\n\u001b[1;32m   1369\u001b[0m     \u001b[39mif\u001b[39;00m specified_out:\n\u001b[1;32m   1370\u001b[0m         kwargs[\u001b[39m'\u001b[39m\u001b[39mout\u001b[39m\u001b[39m'\u001b[39m] \u001b[39m=\u001b[39m out\n\u001b[0;32m-> 1371\u001b[0m     \u001b[39mreturn\u001b[39;00m c_einsum(\u001b[39m*\u001b[39;49moperands, \u001b[39m*\u001b[39;49m\u001b[39m*\u001b[39;49mkwargs)\n\u001b[1;32m   1373\u001b[0m \u001b[39m# Check the kwargs to avoid a more cryptic error later, without having to\u001b[39;00m\n\u001b[1;32m   1374\u001b[0m \u001b[39m# repeat default values here\u001b[39;00m\n\u001b[1;32m   1375\u001b[0m valid_einsum_kwargs \u001b[39m=\u001b[39m [\u001b[39m'\u001b[39m\u001b[39mdtype\u001b[39m\u001b[39m'\u001b[39m, \u001b[39m'\u001b[39m\u001b[39morder\u001b[39m\u001b[39m'\u001b[39m, \u001b[39m'\u001b[39m\u001b[39mcasting\u001b[39m\u001b[39m'\u001b[39m]\n",
      "\u001b[0;31mValueError\u001b[0m: operands could not be broadcast together with remapped shapes [original->remapped]: (13,50,13)->(13,50,newaxis,13) (50,13)->(13,50) "
     ]
    }
   ],
   "source": [
    "Gnew = recompess(G[::-1], 1e-3, ortohonalization=)\n",
    "print(\"old shape:\", [g.shape for g in G], \"\\n\" \"new shape:\", [g.shape for g in Gnew])"
   ]
  },
  {
   "cell_type": "code",
   "execution_count": 15,
   "metadata": {},
   "outputs": [
    {
     "data": {
      "text/plain": [
       "0.0003337647085426793"
      ]
     },
     "execution_count": 15,
     "metadata": {},
     "output_type": "execute_result"
    }
   ],
   "source": [
    "g1 = unfold_TT(G)\n",
    "g2 = unfold_TT(Gnew)\n",
    "np.linalg.norm(g1 - g2)"
   ]
  },
  {
   "cell_type": "markdown",
   "metadata": {},
   "source": [
    "# TT cross\n"
   ]
  },
  {
   "cell_type": "code",
   "execution_count": 632,
   "metadata": {},
   "outputs": [],
   "source": [
    "n = 50\n",
    "\n",
    "def foo(i, j, k, l):\n",
    "    return np.sin(i + j + k + l)\n",
    "\n",
    "A = np.fromfunction(foo, [n, n, n, n])\n",
    "d = A.ndim"
   ]
  },
  {
   "cell_type": "code",
   "execution_count": 633,
   "metadata": {},
   "outputs": [],
   "source": [
    "def Sherman_Morrison_inv(A_inv, u, v):\n",
    "    den = 1 + np.dot(v, A_inv @ u)\n",
    "    return A_inv - np.outer(A_inv @ u,  v @ A_inv) / den\n",
    "\n",
    "def MaxVol(A, eps=1e-2, maxit=20):\n",
    "    m, r = A.shape\n",
    "\n",
    "\n",
    "    for _try in range(20):\n",
    "        set_i = np.random.choice(m, r, replace=False)\n",
    "        cur_vol = abs(np.linalg.det(A[set_i, :]))\n",
    "        if(cur_vol > 1e-5):\n",
    "            break\n",
    "    C = A[list(set_i), :]\n",
    "    C_inv = np.linalg.inv(C)    \n",
    "    for it in range(1, maxit):\n",
    "        A_temp = np.abs(A @ C_inv)\n",
    "        i, k = np.unravel_index(A_temp.argmax(), A_temp.shape)\n",
    "        a_i = A[i, :]\n",
    "        a_k = A[k, :]\n",
    "        \n",
    "        if A_temp[i, k] <= 1 + eps:\n",
    "            break\n",
    "        set_i[k] = i\n",
    "        cur_vol *= A_temp[i, k]\n",
    "        \n",
    "        # C^-1 := (C - e_k(a_i - a_k))^-1\n",
    "        C_inv = Sherman_Morrison_inv(C_inv, np.eye(1, r, k=k).ravel(), a_i - a_k)\n",
    "    return np.sort(np.array(set_i))\n",
    "\n",
    "def tensor_unfold(A: np.array, k : int) -> np.array:\n",
    "    \"\"\"unfold tensor by dimension k\n",
    "\n",
    "    Args:\n",
    "        A (np.aray): of size (n1, n2, ..., nd)\n",
    "        k (int): dimension for unfold\n",
    "\n",
    "    Returns:\n",
    "        aray: matrix (nk, -1)\n",
    "    \"\"\"    \n",
    "    return np.reshape(np.moveaxis(A, k, 0), (A.shape[k], -1))\n"
   ]
  },
  {
   "cell_type": "code",
   "execution_count": 634,
   "metadata": {},
   "outputs": [],
   "source": [
    "def TTcross(A, ranks, eps = 1e-3, maxit=2, maxitcross = 100):\n",
    "    d = A.ndim\n",
    "    J = [np.random.choice(A.size // np.prod(A.shape[:k+1]), ranks[k], replace=False) for k in range(d-1)]\n",
    "    I = [None for _ in range(d-1)]\n",
    "    G = [None for _ in range(d)]\n",
    "    for it in range(maxit):\n",
    "        print(it)\n",
    "        # forward iteration\n",
    "        TT = A.reshape(A.shape[0], -1) \n",
    "        I[0] = MaxVol(TT[:, J[0]], eps, maxitcross)\n",
    "        TT = TT[I[0], :] #  r1, n2*n3*...nd\n",
    "        for k in range(1, d-1):\n",
    "            TT = TT.reshape(ranks[k-1] * A.shape[k], -1) # r_{k-1}nk, n_{k+1}... n_d\n",
    "            I[k] = MaxVol(TT[:, J[k]], eps, maxitcross)\n",
    "            TT = TT[I[k], :]\n",
    "        # backward iteration\n",
    "        TT = tensor_unfold(A, d-1).T\n",
    "        J[-1] = MaxVol(TT[I[-1], :].T, eps, maxitcross) # transpose for horizontal matrix\n",
    "        TT = TT[:, J[-1]] # n1... n_d-1, r_d\n",
    "        for k in range(len(J) - 2, -1, -1):\n",
    "            TT = TT.reshape(-1, ranks[k + 1] * A.shape[k])\n",
    "            J[k] = MaxVol(TT[I[k], :].T, eps, maxitcross) # transpose for horizontal matrix\n",
    "            TT = TT[:, J[k]]\n",
    "    \n",
    "    # creating tensor train\n",
    "    TT = A.reshape(A.shape[0], -1) \n",
    "    G[0] = TT[:, J[0]] @ inv(TT[I[0][:, None], J[0]])\n",
    "    TT = TT[I[0], :] #  r1, n2*n3*...nd\n",
    "    for k in range(1, d-1):\n",
    "        TT = TT.reshape(ranks[k-1] * A.shape[k], -1) # r_{k-1}nk, n_{k+1}... n_d\n",
    "        I[k] = MaxVol(TT[:, J[k]], eps, maxitcross)\n",
    "        g = TT[:, J[k]] @ inv(TT[I[k][:, None], J[k]])\n",
    "        G[k] = g.reshape(ranks[k-1], A.shape[k], ranks[k])\n",
    "        TT = TT[I[k], :]\n",
    "    G[-1] = TT\n",
    "    return G"
   ]
  },
  {
   "cell_type": "code",
   "execution_count": 635,
   "metadata": {},
   "outputs": [
    {
     "name": "stdout",
     "output_type": "stream",
     "text": [
      "0\n",
      "1\n",
      "2\n",
      "3\n",
      "4\n"
     ]
    }
   ],
   "source": [
    "ranks = [2 for _ in range(A.ndim)]\n",
    "G = TTcross(A, ranks, maxit=5)"
   ]
  },
  {
   "cell_type": "code",
   "execution_count": 636,
   "metadata": {},
   "outputs": [
    {
     "data": {
      "text/plain": [
       "6.9626029962047996e-12"
      ]
     },
     "execution_count": 636,
     "metadata": {},
     "output_type": "execute_result"
    }
   ],
   "source": [
    "g = unfold_TT(G)\n",
    "np.linalg.norm(g - A)"
   ]
  }
 ],
 "metadata": {
  "kernelspec": {
   "display_name": "Python 3",
   "language": "python",
   "name": "python3"
  },
  "language_info": {
   "codemirror_mode": {
    "name": "ipython",
    "version": 3
   },
   "file_extension": ".py",
   "mimetype": "text/x-python",
   "name": "python",
   "nbconvert_exporter": "python",
   "pygments_lexer": "ipython3",
   "version": "3.11.8"
  }
 },
 "nbformat": 4,
 "nbformat_minor": 2
}
