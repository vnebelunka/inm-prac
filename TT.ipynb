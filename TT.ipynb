{
 "cells": [
  {
   "cell_type": "code",
   "execution_count": 31,
   "metadata": {},
   "outputs": [],
   "source": [
    "import numpy as np\n",
    "from numpy.linalg import svd as svd"
   ]
  },
  {
   "cell_type": "code",
   "execution_count": 151,
   "metadata": {},
   "outputs": [],
   "source": [
    "n = 50\n",
    "\n",
    "def foo(i, j, k, l):\n",
    "    return 1 / (1 + i + j + k + l)\n",
    "\n",
    "A = np.fromfunction(foo, [n, n, n, n])\n",
    "d = A.ndim"
   ]
  },
  {
   "cell_type": "markdown",
   "metadata": {},
   "source": [
    "# Utils"
   ]
  },
  {
   "cell_type": "code",
   "execution_count": 74,
   "metadata": {},
   "outputs": [],
   "source": [
    "def crop_vector(a: np.array, eps: float) -> int:\n",
    "    \"\"\"crop vector of positive values until all sum minus prefix sum < eps\n",
    "\n",
    "    Args:\n",
    "        a (np.array): vector of positive values\n",
    "        eps (float): tolerance\n",
    "\n",
    "    Returns:\n",
    "        int: len of prefix sum\n",
    "    \"\"\"    \n",
    "    r = 0\n",
    "    cur_sum = 0\n",
    "    sum = np.sum(a)\n",
    "\n",
    "    while r < len(a):\n",
    "        cur_sum += a[r]\n",
    "        if sum - cur_sum < eps:\n",
    "            return r + 1\n",
    "        r += 1\n",
    "    return r\n",
    "\n",
    "def croped_svd(a: np.array, eps: float, full_matrices = False):\n",
    "    \"\"\"return cropped svd with absolute tolerance eps\n",
    "\n",
    "    Args:\n",
    "        a (np.array): matrix\n",
    "        eps (float): absolute\n",
    "        full_matrices (bool, optional): full_matrices for np.svd. Defaults to False.\n",
    "\n",
    "    Returns:\n",
    "        _type_: u, s, v - cropped svd\n",
    "    \"\"\"\n",
    "    u, s, v = svd(a, full_matrices = full_matrices)\n",
    "    r = crop_vector(s, eps)\n",
    "    return u[:, :r], s[:r], v[:r, :]"
   ]
  },
  {
   "cell_type": "markdown",
   "metadata": {},
   "source": [
    "# TT SVD"
   ]
  },
  {
   "cell_type": "code",
   "execution_count": 138,
   "metadata": {},
   "outputs": [],
   "source": [
    "def TTSVD(A, eps): #from left to right\n",
    "    d = A.ndim\n",
    "    TT = A.reshape(A.shape[0], -1)\n",
    "    u, s, v = croped_svd(TT, eps / (d**0.5))\n",
    "    r1 = len(s)\n",
    "    G1 = u\n",
    "    TT = np.diag(s) @ v\n",
    "    ranks = [r1]\n",
    "    G = [G1]\n",
    "    for k in range(1, d-1):\n",
    "        TT = TT.reshape(ranks[k - 1] * A.shape[k], -1)\n",
    "        u, s, v = svd(TT, full_matrices=False)\n",
    "        ranks.append(crop_vector(s, eps / (d**0.5)))\n",
    "        Gk = u[:, :ranks[k]].reshape(ranks[k-1], A.shape[k], ranks[k])\n",
    "        G.append(Gk)\n",
    "        TT = np.diag(s[:ranks[k]]) @ v[:ranks[k], :]\n",
    "    G.append(TT)\n",
    "    return G"
   ]
  },
  {
   "cell_type": "code",
   "execution_count": 139,
   "metadata": {},
   "outputs": [
    {
     "name": "stdout",
     "output_type": "stream",
     "text": [
      "[(50, 13), (13, 50, 13), (13, 50, 13), (13, 50)]\n"
     ]
    }
   ],
   "source": [
    "G = TTSVD(A, 1e-8)\n",
    "print([g.shape for g in G])"
   ]
  },
  {
   "cell_type": "code",
   "execution_count": 140,
   "metadata": {},
   "outputs": [],
   "source": [
    "def unfold_TT(G):\n",
    "    d = len(G)\n",
    "    g = G[0]\n",
    "    for k in range(1, d-1):\n",
    "        g = np.einsum(g, [i for i in range(g.ndim)], G[k], [g.ndim-1, g.ndim, g.ndim+1], [i for i in range(g.ndim - 1)] + [g.ndim, g.ndim+1]) # ...k,k...->...\n",
    "    g = np.einsum(g, [i for i in range(g.ndim)], G[-1], [g.ndim - 1, g.ndim], [i for i in range(g.ndim -1)] + [g.ndim])\n",
    "    return g"
   ]
  },
  {
   "cell_type": "code",
   "execution_count": 141,
   "metadata": {},
   "outputs": [
    {
     "data": {
      "text/plain": [
       "4.4758827043168295e-09"
      ]
     },
     "execution_count": 141,
     "metadata": {},
     "output_type": "execute_result"
    }
   ],
   "source": [
    "g = unfold_TT(G)\n",
    "np.linalg.norm(g - A)"
   ]
  },
  {
   "cell_type": "code",
   "execution_count": 142,
   "metadata": {},
   "outputs": [
    {
     "data": {
      "text/plain": [
       "([12.999999999999996,\n",
       "  12.999999999999986,\n",
       "  12.999999999999986,\n",
       "  952.4124701079983],\n",
       " 952.4124701079974)"
      ]
     },
     "execution_count": 142,
     "metadata": {},
     "output_type": "execute_result"
    }
   ],
   "source": [
    "[np.linalg.norm(g)**2  for g in G], np.linalg.norm(g)**2"
   ]
  },
  {
   "cell_type": "markdown",
   "metadata": {},
   "source": [
    "# Recompression"
   ]
  },
  {
   "cell_type": "code",
   "execution_count": 144,
   "metadata": {},
   "outputs": [],
   "source": [
    "def recompess(G, eps): #from right to left\n",
    "    d = len(G)\n",
    "    u, s, v = croped_svd(G[d-1], eps / (d ** 0.5))\n",
    "    Gnew = [v]\n",
    "    W = u @ np.diag(s)\n",
    "    for k in range(d-2, 0, -1):\n",
    "        Gk = np.einsum(\"ijk,kl->ijl\", G[k], W)\n",
    "        u, s, v = croped_svd(Gk.reshape(Gk.shape[0], -1), eps / (d ** 0.5))\n",
    "        W = u @ np.diag(s)\n",
    "        Gnew.append(v.reshape(len(s), G[k].shape[1], Gnew[d-2-k].shape[0]))\n",
    "    Gd = np.einsum(\"ij,jk->ik\", G[0], W)\n",
    "    u, s, v = croped_svd(Gd, eps / (d ** 0.5))\n",
    "    Gnew.append(u @ np.diag(s) @ v)\n",
    "    return Gnew[::-1]"
   ]
  },
  {
   "cell_type": "code",
   "execution_count": 148,
   "metadata": {},
   "outputs": [
    {
     "name": "stdout",
     "output_type": "stream",
     "text": [
      "old shape: [(50, 13), (13, 50, 13), (13, 50, 13), (13, 50)] \n",
      "new shape: [(50, 7), (7, 50, 8), (8, 50, 7), (7, 50)]\n"
     ]
    }
   ],
   "source": [
    "Gnew = recompess(G, 1e-3)\n",
    "print(\"old shape:\", [g.shape for g in G], \"\\n\" \"new shape:\", [g.shape for g in Gnew])"
   ]
  },
  {
   "cell_type": "code",
   "execution_count": 150,
   "metadata": {},
   "outputs": [
    {
     "data": {
      "text/plain": [
       "0.0003337647085426793"
      ]
     },
     "execution_count": 150,
     "metadata": {},
     "output_type": "execute_result"
    }
   ],
   "source": [
    "g1 = unfold_TT(G)\n",
    "g2 = unfold_TT(Gnew)\n",
    "np.linalg.norm(g1 - g2)"
   ]
  }
 ],
 "metadata": {
  "kernelspec": {
   "display_name": "Python 3",
   "language": "python",
   "name": "python3"
  },
  "language_info": {
   "codemirror_mode": {
    "name": "ipython",
    "version": 3
   },
   "file_extension": ".py",
   "mimetype": "text/x-python",
   "name": "python",
   "nbconvert_exporter": "python",
   "pygments_lexer": "ipython3",
   "version": "3.11.8"
  }
 },
 "nbformat": 4,
 "nbformat_minor": 2
}
