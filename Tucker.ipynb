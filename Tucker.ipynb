{
 "cells": [
  {
   "cell_type": "code",
   "execution_count": 2,
   "metadata": {},
   "outputs": [],
   "source": [
    "import numpy as np"
   ]
  },
  {
   "cell_type": "code",
   "execution_count": 3,
   "metadata": {},
   "outputs": [],
   "source": [
    "n = 100\n",
    "\n",
    "def foo(i, j, k):\n",
    "    return i + j + k\n",
    "\n",
    "A = np.fromfunction(foo, [n, n, n])\n",
    "d = len(A.shape)"
   ]
  },
  {
   "cell_type": "markdown",
   "metadata": {},
   "source": [
    "# Utils"
   ]
  },
  {
   "cell_type": "code",
   "execution_count": 85,
   "metadata": {},
   "outputs": [],
   "source": [
    "def crop_vector(a: np.array, eps: float) -> int:\n",
    "    \"\"\"crop vector of positive values until all sum minus prefix sum < eps\n",
    "\n",
    "    Args:\n",
    "        a (np.array): vector of positive values\n",
    "        eps (float): tolerance\n",
    "\n",
    "    Returns:\n",
    "        int: len of prefix sum\n",
    "    \"\"\"    \n",
    "    r = 0\n",
    "    cur_sum = 0\n",
    "    sum = np.sum(a)\n",
    "\n",
    "    while r < len(a):\n",
    "        cur_sum += a[r]\n",
    "        if sum - cur_sum < eps:\n",
    "            return r + 1\n",
    "        r += 1\n",
    "    return r\n",
    "\n",
    "def tensor_unfold(A: np.array, k : int) -> np.array:\n",
    "    \"\"\"unfold tensor by dimension k\n",
    "\n",
    "    Args:\n",
    "        A (np.aray): of size (n1, n2, ..., nd)\n",
    "        k (int): dimension for unfold\n",
    "\n",
    "    Returns:\n",
    "        aray: matrix (nk, -1)\n",
    "    \"\"\"    \n",
    "    return np.reshape(np.moveaxis(A, k, 0), (A.shape[k], -1))\n",
    "\n",
    "def mul_by_dim(T: np.array, A: np.array, k: int)-> np.array:\n",
    "    \"\"\"multiply tensor by matrix on dimenson k\n",
    "\n",
    "    Args:\n",
    "        T (np.array): Tensor with shape (n1, ... nd)\n",
    "        A (np.array): Matrix with shape (nk, mk)\n",
    "        k (int): dimension\n",
    "\n",
    "    Returns:\n",
    "        np.array: Tensor with shape (n1, ... , mk, ... nd)\n",
    "    \"\"\"    \n",
    "    d = len(T.shape)\n",
    "    return np.einsum(T, [i for i in range(d)], A, [k, d], [i if i != k else d for i in range(d)])"
   ]
  },
  {
   "cell_type": "markdown",
   "metadata": {},
   "source": [
    "# st HO SVD"
   ]
  },
  {
   "cell_type": "code",
   "execution_count": 90,
   "metadata": {},
   "outputs": [],
   "source": [
    "def stHOSVD(A, eps=1e-2):\n",
    "    d = len(A.shape)\n",
    "    U = []\n",
    "    G = A\n",
    "    shape = [k for k in A.shape]\n",
    "    for k in range(d):\n",
    "        Ak = tensor_unfold(G, k)\n",
    "        u, s, v = np.linalg.svd(Ak, full_matrices=False)\n",
    "        r = crop_vector(s, eps / d**0.5)\n",
    "        shape[k] = r\n",
    "        U.append(u[:, :r].T)\n",
    "        G = np.diag(s[:r]) @ v[:r, :]\n",
    "        G = G.reshape(r, *[shape[i] for i in range(len(shape)) if i != k])\n",
    "    return np.transpose(G), U  # ranks are inverse in G  \n"
   ]
  },
  {
   "cell_type": "code",
   "execution_count": 91,
   "metadata": {},
   "outputs": [],
   "source": [
    "g, U = stHOSVD(A)"
   ]
  },
  {
   "cell_type": "code",
   "execution_count": 88,
   "metadata": {},
   "outputs": [
    {
     "data": {
      "text/plain": [
       "7.954796900416866e-10"
      ]
     },
     "execution_count": 88,
     "metadata": {},
     "output_type": "execute_result"
    }
   ],
   "source": [
    "T = g\n",
    "for k in range(d):\n",
    "    T = mul_by_dim(T, U[k], k)\n",
    "\n",
    "np.linalg.norm(T - A)"
   ]
  },
  {
   "cell_type": "markdown",
   "metadata": {},
   "source": [
    "# Recompress"
   ]
  },
  {
   "cell_type": "code",
   "execution_count": 92,
   "metadata": {},
   "outputs": [],
   "source": [
    "def recompress(G, U, eps):\n",
    "    Gnew = G.copy()\n",
    "    d = len(G.shape)\n",
    "    V = []\n",
    "    Q = []\n",
    "    #reortoganization\n",
    "    for k in range(d):\n",
    "        q, r = np.linalg.qr(U[k].T) # UT = QR\n",
    "        Q.append(q)\n",
    "        Gnew = mul_by_dim(Gnew, r.T, k) # U = RT QT\n",
    "    Gnew, W = stHOSVD(Gnew, eps)\n",
    "    for k in range(d):\n",
    "        V.append(W[k] @ Q[k].T)\n",
    "    return Gnew, V"
   ]
  },
  {
   "cell_type": "code",
   "execution_count": 93,
   "metadata": {},
   "outputs": [],
   "source": [
    "r = 5\n",
    "N = 100\n",
    "\n",
    "g = np.random.randn(r, r, r)\n",
    "U = [np.random.randn(r, N) for _ in range(3)]"
   ]
  },
  {
   "cell_type": "code",
   "execution_count": 94,
   "metadata": {},
   "outputs": [],
   "source": [
    "g1, U1 = recompress(g, U, 1e-5)"
   ]
  },
  {
   "cell_type": "code",
   "execution_count": 96,
   "metadata": {},
   "outputs": [
    {
     "data": {
      "text/plain": [
       "3.147727427093443e-11"
      ]
     },
     "execution_count": 96,
     "metadata": {},
     "output_type": "execute_result"
    }
   ],
   "source": [
    "T0 = g\n",
    "for k in range(d):\n",
    "    T0 = mul_by_dim(T0, U[k], k)\n",
    "\n",
    "T1 = g1\n",
    "for k in range(d):\n",
    "    T1 = mul_by_dim(T1, U1[k], k)\n",
    "\n",
    "\n",
    "np.linalg.norm(T1 - T0)"
   ]
  }
 ],
 "metadata": {
  "kernelspec": {
   "display_name": "Python 3",
   "language": "python",
   "name": "python3"
  },
  "language_info": {
   "codemirror_mode": {
    "name": "ipython",
    "version": 3
   },
   "file_extension": ".py",
   "mimetype": "text/x-python",
   "name": "python",
   "nbconvert_exporter": "python",
   "pygments_lexer": "ipython3",
   "version": "3.11.8"
  }
 },
 "nbformat": 4,
 "nbformat_minor": 2
}
