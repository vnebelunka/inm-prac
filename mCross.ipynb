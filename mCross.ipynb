{
 "cells": [
  {
   "cell_type": "code",
   "execution_count": 3,
   "metadata": {},
   "outputs": [],
   "source": [
    "import numpy as np\n",
    "import time\n",
    "import scipy"
   ]
  },
  {
   "cell_type": "code",
   "execution_count": 5,
   "metadata": {},
   "outputs": [],
   "source": [
    "def maxvol1(A, I, J, U = None, V = None, maxit=7):\n",
    "    row = I[np.random.randint(0, len(I))]\n",
    "    if U is None:\n",
    "        for it in range(1, maxit+1, 2):\n",
    "            col = J[np.argmax(np.abs(A[row, I]))]\n",
    "            row = I[np.argmax(np.abs(A[J, col]))]\n",
    "    else:\n",
    "        for it in range(1, maxit+1, 2):\n",
    "            col = J[np.argmax(np.abs(A[row, J] - U[row, :] @ V[:, J]))]\n",
    "            row = I[np.argmax(np.abs(A[I, col] - U[I, :] @ V[:, col]))]\n",
    "    return row, col"
   ]
  },
  {
   "cell_type": "code",
   "execution_count": 34,
   "metadata": {},
   "outputs": [],
   "source": [
    "def mCross(A, eps = 1e-5):\n",
    "    n, m = A.shape\n",
    "    I = np.arange(n)\n",
    "    J = np.arange(m)\n",
    "    i, j = maxvol1(A, I, J)\n",
    "    U = (A[:, j] / np.abs(A[i, j])**0.5).reshape(-1, 1)\n",
    "    V = (A[i, :] * np.abs(A[i, j])**0.5 / A[i, j]).reshape(1, -1)\n",
    "    I = np.setdiff1d(I, [i])\n",
    "    J = np.setdiff1d(J, [j])\n",
    "    r = 1\n",
    "    UVnorm2 = np.linalg.norm(U @ V)**2\n",
    "    while True:\n",
    "        i, j = maxvol1(A, I, J, U, V)\n",
    "        UV_ij = U[i, :] @ V[:, j]\n",
    "        if np.abs(A[i, j] - UV_ij) * np.sqrt((m-r) * (n-r)) < eps * np.sqrt(UVnorm2):\n",
    "            break\n",
    "        u = (A[:, j] - U @ V[:, j]) / np.sqrt(np.abs(A[i, j] - UV_ij))\n",
    "        v = (A[i, :] - U[i, :] @ V) * np.sqrt(np.abs(A[i, j] - UV_ij)) / (A[i, j] - UV_ij)\n",
    "        UVnorm2 = UVnorm2 + np.linalg.norm(u)**2 * np.linalg.norm(v)**2 + np.dot(U.T @ u, V @ v.T) + np.dot(V @ v.T, U.T @ u)\n",
    "        U = np.concatenate((U, u.reshape(-1, 1)), axis=1)\n",
    "        V = np.concatenate((V, v.reshape(1, -1)), axis=0)\n",
    "        I = np.setdiff1d(I, [i])\n",
    "        J = np.setdiff1d(J, [j])\n",
    "        r += 1\n",
    "    return (U, V, r)"
   ]
  },
  {
   "cell_type": "code",
   "execution_count": 8,
   "metadata": {},
   "outputs": [],
   "source": [
    "def Hilbert(i, j):\n",
    "    return 1 / (i + j + 1)\n",
    "\n",
    "M = 8192\n",
    "N = 8192\n",
    "\n",
    "A = np.fromfunction(Hilbert, [M, N])"
   ]
  },
  {
   "cell_type": "code",
   "execution_count": 13,
   "metadata": {},
   "outputs": [
    {
     "name": "stdout",
     "output_type": "stream",
     "text": [
      "Classical time:  108.8213403224945  sec\n"
     ]
    }
   ],
   "source": [
    "start = time.time()\n",
    "u, s, v = np.linalg.svd(A, full_matrices=False)\n",
    "end = time.time()\n",
    "print(\"Classical time: \", end - start, \" sec\")"
   ]
  },
  {
   "cell_type": "code",
   "execution_count": 39,
   "metadata": {},
   "outputs": [
    {
     "data": {
      "text/plain": [
       "(17, 6.071561928777669e-07)"
      ]
     },
     "execution_count": 39,
     "metadata": {},
     "output_type": "execute_result"
    }
   ],
   "source": [
    "eps = 1e-6\n",
    "\n",
    "norm = np.sum(s)\n",
    "cur_norm = norm.copy()\n",
    "r = 0\n",
    "while cur_norm >= eps:\n",
    "    cur_norm -= s[r]\n",
    "    r += 1\n",
    "r, np.sum(s) - np.sum(s[: r])"
   ]
  },
  {
   "cell_type": "code",
   "execution_count": 40,
   "metadata": {},
   "outputs": [
    {
     "name": "stdout",
     "output_type": "stream",
     "text": [
      "Cross time:  0.31001734733581543  sec\n",
      "Rank = 21, Relative approximation error = 1.9599914699476138e-08\n"
     ]
    }
   ],
   "source": [
    "start = time.time()\n",
    "U, V, r = mCross(A, eps)\n",
    "np.linalg.norm(A - U @ V), r\n",
    "end = time.time()\n",
    "print(\"Cross time: \", end - start, \" sec\")\n",
    "print(\"Rank = {}, Relative approximation error = {}\".format(r, np.linalg.norm(A - U @ V) / np.linalg.norm(A)))"
   ]
  }
 ],
 "metadata": {
  "kernelspec": {
   "display_name": "Python 3",
   "language": "python",
   "name": "python3"
  },
  "language_info": {
   "codemirror_mode": {
    "name": "ipython",
    "version": 3
   },
   "file_extension": ".py",
   "mimetype": "text/x-python",
   "name": "python",
   "nbconvert_exporter": "python",
   "pygments_lexer": "ipython3",
   "version": "3.11.8"
  }
 },
 "nbformat": 4,
 "nbformat_minor": 2
}
